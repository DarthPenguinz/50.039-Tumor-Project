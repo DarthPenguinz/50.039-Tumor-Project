{
 "cells": [
  {
   "cell_type": "markdown",
   "metadata": {},
   "source": [
    "# Brain Tumor Segmentation (BraTS) <br> EDA and Data Visualization\n",
    "\n",
    "- **Author:** *Marcus Ng*\n",
    "- **Date created:** *1st March, 2023*\n",
    "\n",
    "## Overview\n",
    "\n",
    "The goal of our project is to segment the tumor from the brain MRI scans. \n",
    "\n",
    "All BraTS multimodal scans are available as NIfTI files (.nii.gz) and describe:\n",
    "\n",
    "- native (**T1**),\n",
    "- post-contrast T1-weighted (**T1Gd**),\n",
    "- T2-weighted (**T2**),\n",
    "- T2 Fluid Attenuated Inversion Recovery (**T2-FLAIR**)\n",
    "\n",
    "volumes, and were acquired with different clinical protocols and various scanners from multiple (n=19) institutions.\n",
    "\n",
    "All the imaging datasets have been segmented manually, by one to four raters, following the same annotation protocol, and their annotations were approved by experienced neuro-radiologists. Annotations comprise:\n",
    "\n",
    "- the necrotic and non-enhancing tumor core (**NCR/NET — label 1**),\n",
    "- the peritumoral edema (**ED — label 2**),\n",
    "- the GD-enhancing tumor (**ET — label 4**),\n",
    " \n",
    "as described both in the [BraTS 2012-2013 TMI paper](https://ieeexplore.ieee.org/document/6975210) and in the [latest BraTS summarizing paper](https://arxiv.org/abs/1811.02629). The provided data are distributed after their pre-processing, i.e., co-registered to the same anatomical template, interpolated to the same resolution ($1 {mm}^3$) and skull-stripped.\n",
    "\n",
    "## References\n",
    "\n",
    "- [📄 The Multimodal Brain Tumor Image Segmentation Benchmark (BRATS)](https://ieeexplore.ieee.org/document/6975210)\n",
    "- [📄 Advancing The Cancer Genome Atlas glioma MRI collections with expert segmentation labels and radiomic features](https://www.nature.com/articles/sdata2017117)\n",
    "- [📄 Identifying the Best Machine Learning Algorithms for Brain Tumor Segmentation, Progression Assessment, and Overall Survival Prediction in the BRATS Challenge](https://arxiv.org/abs/1811.02629)"
   ]
  },
  {
   "cell_type": "code",
   "execution_count": 1,
   "metadata": {},
   "outputs": [],
   "source": [
    "# Imports \n",
    "\n",
    "import os\n",
    "from glob import glob\n",
    "\n",
    "import matplotlib.patches as mpatches\n",
    "import matplotlib.pyplot as plt\n",
    "import nibabel as nib\n",
    "import numpy as np\n",
    "import pandas as pd\n",
    "from matplotlib import animation, cm, colors, rc\n",
    "from scipy import ndimage"
   ]
  },
  {
   "cell_type": "markdown",
   "metadata": {},
   "source": [
    "MASK_LABELS:\n",
    "\n",
    "This is a list of labels that represent different regions or types of tumors in the brain segmentation masks. Each label corresponds to a specific type of tumor region. In this case, the labels are:\n",
    "'Non-Enhancing Tumor Core'\n",
    "'Peritumoral Edema'\n",
    "'GD-Enhancing Tumor'\n",
    "These labels provide semantic information about the different regions of interest within the brain tumor segmentation masks. <br><br>\n",
    "MASK_VALUES:\n",
    "\n",
    "This is a list of numerical values assigned to each label in the segmentation masks. These numerical values are used to represent the corresponding labels in the image data.\n",
    "For example, if a pixel in the segmentation mask represents 'Non-Enhancing Tumor Core', it will have a value of 0. Similarly, 'Peritumoral Edema' will have a value of 1, and 'GD-Enhancing Tumor' will have a value of 2.\n",
    "The value 4 might represent background or other regions not classified under the specified tumor types."
   ]
  },
  {
   "cell_type": "markdown",
   "metadata": {},
   "source": [
    "## Exploratory Data Analysis"
   ]
  },
  {
   "cell_type": "code",
   "execution_count": 2,
   "metadata": {},
   "outputs": [],
   "source": [
    "DATA_PATH = '../Dataset'\n",
    "TRAIN_PATH = f'{DATA_PATH}/BraTS2020_TrainingData/MICCAI_BraTS2020_TrainingData'\n",
    "TEST_PATH = f'{DATA_PATH}/BraTS2020_ValidationData/MICCAI_BraTS2020_ValidationData'\n",
    "DATA_TYPES = ['flair', 't1', 't1ce', 't2', 'seg']\n",
    "MASK_LABELS = ['Non-Enhancing Tumor Core',\n",
    "               'Peritumoral Edema', 'GD-Enhancing Tumor']\n",
    "MASK_VALUES = [0, 1, 2, 4]"
   ]
  },
  {
   "cell_type": "markdown",
   "metadata": {},
   "source": [
    "This code snippet is designed for organizing and summarizing the file paths of neuroimaging data (specifically, NIfTI files, which are commonly used for storing MRI data) for a Brain Tumor Segmentation Exploratory Data Analysis (EDA). The code is structured to handle both training and testing datasets"
   ]
  },
  {
   "cell_type": "code",
   "execution_count": 3,
   "metadata": {},
   "outputs": [
    {
     "name": "stdout",
     "output_type": "stream",
     "text": [
      "[TRAIN] Number of flair images: 369\n",
      "[TRAIN] Number of t1 images: 369\n",
      "[TRAIN] Number of t1ce images: 369\n",
      "[TRAIN] Number of t2 images: 369\n",
      "[TRAIN] Number of seg images: 369\n",
      "\n",
      "[TEST] Number of flair images: 125\n",
      "[TEST] Number of t1 images: 125\n",
      "[TEST] Number of t1ce images: 125\n",
      "[TEST] Number of t2 images: 125\n",
      "[TEST] Number of seg images: 0\n"
     ]
    }
   ],
   "source": [
    "train_data_paths = {\n",
    "    data_type: sorted(\n",
    "        glob(f'{TRAIN_PATH}/**/*_{data_type}.nii')\n",
    "    ) for data_type in DATA_TYPES\n",
    "}\n",
    "\n",
    "train_data_paths['seg'].append(f'{TRAIN_PATH}/BraTS20_Training_355/W39_1998.09.19_Segm.nii')\n",
    "train_data_paths['seg'] = sorted(train_data_paths['seg'])\n",
    "\n",
    "for k, v in train_data_paths.items():\n",
    "    print(f'[TRAIN] Number of {k} images: {len(v)}')\n",
    "print()\n",
    "\n",
    "test_data_paths = {\n",
    "    data_type: sorted(\n",
    "        glob(f'{TEST_PATH}/**/*_{data_type}.nii')\n",
    "    ) for data_type in DATA_TYPES\n",
    "}\n",
    "\n",
    "for k, v in test_data_paths.items():\n",
    "    print(f'[TEST] Number of {k} images: {len(v)}')"
   ]
  },
  {
   "cell_type": "code",
   "execution_count": 4,
   "metadata": {},
   "outputs": [],
   "source": [
    "for path in sorted(glob(f'{TRAIN_PATH}/*')):\n",
    "    if os.path.isdir(path):\n",
    "        if not any(f.endswith('seg.nii') or f.endswith('Segm.nii') for f in os.listdir(path)):\n",
    "            print(\n",
    "                f'Missing segmentation mask for volume: {path.split(\"/\")[-1]}.')"
   ]
  },
  {
   "cell_type": "code",
   "execution_count": null,
   "metadata": {},
   "outputs": [],
   "source": []
  }
 ],
 "metadata": {
  "kernelspec": {
   "display_name": "venv",
   "language": "python",
   "name": "python3"
  },
  "language_info": {
   "codemirror_mode": {
    "name": "ipython",
    "version": 3
   },
   "file_extension": ".py",
   "mimetype": "text/x-python",
   "name": "python",
   "nbconvert_exporter": "python",
   "pygments_lexer": "ipython3",
   "version": "3.9.6"
  }
 },
 "nbformat": 4,
 "nbformat_minor": 2
}
