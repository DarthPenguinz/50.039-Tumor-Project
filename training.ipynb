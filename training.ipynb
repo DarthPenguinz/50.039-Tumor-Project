{
 "cells": [
  {
   "cell_type": "code",
   "execution_count": 1,
   "metadata": {},
   "outputs": [],
   "source": [
    "from functions import *\n",
    "from UNET import *"
   ]
  },
  {
   "cell_type": "code",
   "execution_count": 2,
   "metadata": {},
   "outputs": [],
   "source": [
    "dataset_path = \"./Dataset/BraTS2020_TrainingData/MICCAI_BraTS2020_TrainingData\"\n",
    "numpy_path = \"./augmented_dataset\"\n",
    "# We have tried seeding but still get different results between runs sometimes\n",
    "torch.manual_seed(8524011162127527122)\n",
    "np.random.seed(123456789)"
   ]
  },
  {
   "cell_type": "markdown",
   "metadata": {},
   "source": [
    "*** Uncomment below to generate dataset ***"
   ]
  },
  {
   "cell_type": "code",
   "execution_count": 3,
   "metadata": {},
   "outputs": [],
   "source": [
    "# generate_dataset(dataset_path, numpy_path, (240,240,40))\n"
   ]
  },
  {
   "cell_type": "code",
   "execution_count": 4,
   "metadata": {},
   "outputs": [
    {
     "name": "stdout",
     "output_type": "stream",
     "text": [
      "./augmented_dataset\n"
     ]
    }
   ],
   "source": [
    "dataset = load_dataset(numpy_path)"
   ]
  },
  {
   "cell_type": "code",
   "execution_count": 5,
   "metadata": {},
   "outputs": [
    {
     "name": "stdout",
     "output_type": "stream",
     "text": [
      "1477 184 184\n",
      "(5, 16, 240, 240) (5, 16, 240, 240) (5, 16, 240, 240)\n"
     ]
    }
   ],
   "source": [
    "training_set, validation_set, testing_set = random_split(dataset, (0.8, 0.1, 0.1))\n",
    "print(len(training_set), len(validation_set), len(testing_set))\n",
    "print(training_set[0].shape, validation_set[0].shape, testing_set[0].shape)"
   ]
  },
  {
   "cell_type": "code",
   "execution_count": 6,
   "metadata": {},
   "outputs": [],
   "source": [
    "processed_training_set = split_layers(np.array(training_set))\n",
    "processed_validation_set = split_layers(np.array(validation_set))\n",
    "processed_testing_set = split_layers(np.array(testing_set))"
   ]
  },
  {
   "cell_type": "code",
   "execution_count": null,
   "metadata": {},
   "outputs": [],
   "source": [
    "print(processed_training_set.shape, processed_validation_set.shape, processed_testing_set.shape)"
   ]
  },
  {
   "cell_type": "code",
   "execution_count": null,
   "metadata": {},
   "outputs": [],
   "source": [
    "# visualise dataset\n",
    "counter = 0\n",
    "for slice in processed_training_set:\n",
    "    if slice[1].max() != 0:\n",
    "        counter += 1\n",
    "        if counter % 10 == 0:\n",
    "            display_slice(slice[0], slice[1], 'Slice 1', 'Slice 2')\n",
    "        if counter == 100:\n",
    "            break"
   ]
  },
  {
   "cell_type": "code",
   "execution_count": null,
   "metadata": {},
   "outputs": [],
   "source": [
    "training_custom_set = CustomDataset(processed_training_set)\n",
    "validation_custom_set = CustomDataset(processed_validation_set)\n",
    "testing_custom_set = CustomDataset(processed_testing_set)\n",
    "\n",
    "batch_size = 20\n",
    "\n",
    "training_dataloader = DataLoader(training_custom_set, batch_size = batch_size, shuffle=True)\n",
    "validation_dataloader = DataLoader(validation_custom_set, batch_size = batch_size, shuffle=True)\n",
    "testing_dataloader = DataLoader(testing_custom_set, batch_size = batch_size ,shuffle=True)"
   ]
  },
  {
   "cell_type": "code",
   "execution_count": null,
   "metadata": {},
   "outputs": [],
   "source": [
    "print(next(iter(training_dataloader))[0].shape, next(iter(training_dataloader))[1].shape)"
   ]
  },
  {
   "cell_type": "code",
   "execution_count": null,
   "metadata": {},
   "outputs": [],
   "source": [
    "device = \"cuda\" if torch.cuda.is_available() else \"cpu\"\n",
    "device = \"mps\" if torch.backends.mps.is_available() else device\n",
    "model = UNet().to(device)\n",
    "loss1 = dice_loss\n",
    "loss2 = nn.BCEWithLogitsLoss()\n",
    "epochs = 2\n",
    "\n",
    "def combined_loss(y_pred, y_true):\n",
    "    output = loss1(y_pred, y_true) + loss2(y_pred, y_true)\n",
    "    return output\n",
    "\n",
    "loss3 = combined_loss\n",
    "optim = torch.optim.Adam(model.parameters(), lr=0.001)\n",
    "feature_range = (1, 2)"
   ]
  },
  {
   "cell_type": "markdown",
   "metadata": {},
   "source": [
    "```\n",
    "Model Variations and testing\n",
    "```"
   ]
  },
  {
   "cell_type": "markdown",
   "metadata": {},
   "source": [
    "```\n",
    "Model 1\n",
    "```"
   ]
  },
  {
   "cell_type": "code",
   "execution_count": null,
   "metadata": {},
   "outputs": [],
   "source": [
    "# train_loss_dice, val_loss_dice = train_model(model, train_dataloader=training_dataloader, val_dataloader=validation_dataloader, \n",
    "#                                    optimizer=optim,feature_range=feature_range, device = device, loss_fn = loss1, display_batch_loss=True, \n",
    "#                                    save_folder=\"Dice_Loss\", epochs = epochs)"
   ]
  },
  {
   "cell_type": "code",
   "execution_count": null,
   "metadata": {},
   "outputs": [],
   "source": [
    "# plot_two_lines_same_x(train_loss_dice, val_loss_dice)"
   ]
  },
  {
   "cell_type": "markdown",
   "metadata": {},
   "source": [
    "```\n",
    "Model 2\n",
    "```"
   ]
  },
  {
   "cell_type": "code",
   "execution_count": null,
   "metadata": {},
   "outputs": [],
   "source": [
    "# train_loss_BCE, val_loss_BCE = train_model(model, train_dataloader=training_dataloader, val_dataloader=validation_dataloader, \n",
    "#                                            optimizer=optim,feature_range=feature_range, device = device, loss_fn = loss2, \n",
    "#                                            display_batch_loss=True, save_folder=\"BCE_Loss\", epochs=epochs)"
   ]
  },
  {
   "cell_type": "code",
   "execution_count": null,
   "metadata": {},
   "outputs": [],
   "source": [
    "# plot_two_lines_same_x(train_loss_BCE, val_loss_BCE)"
   ]
  },
  {
   "cell_type": "markdown",
   "metadata": {},
   "source": [
    "```\n",
    "Model 3\n",
    "```"
   ]
  },
  {
   "cell_type": "code",
   "execution_count": null,
   "metadata": {},
   "outputs": [],
   "source": [
    "# Uncomment to train\n",
    "# train_loss_Combined, val_loss_Combined = train_model(model, train_dataloader=training_dataloader, val_dataloader=validation_dataloader, \n",
    "#                                                      optimizer=optim,feature_range=feature_range, device = device, loss_fn = loss3, \n",
    "#                                                      display_batch_loss=True, save_folder=\"Combined_loss\", epochs=epochs)"
   ]
  },
  {
   "cell_type": "code",
   "execution_count": null,
   "metadata": {},
   "outputs": [],
   "source": [
    "# plot_two_lines_same_x(train_loss_Combined, val_loss_Combined)"
   ]
  },
  {
   "cell_type": "code",
   "execution_count": null,
   "metadata": {},
   "outputs": [],
   "source": [
    "model1 = torch.load(\"./saved_models/Dice_Loss/model_2.pth\").to(device)\n",
    "model2 = torch.load(\"./saved_models/BCE_Loss/model_2.pth\").to(device)\n",
    "model3 = torch.load(\"./saved_models/Combined_loss/model_2.pth\").to(device)\n",
    "pred1, pred2, pred3, outputs = visualize_model_single_channels(model1, model2, model3, testing_dataloader, device, feature_range = (1,2), number_gen = 20)"
   ]
  },
  {
   "cell_type": "code",
   "execution_count": null,
   "metadata": {},
   "outputs": [],
   "source": [
    "index = 10\n",
    "display_4_slice(pred1[index][0][0], pred2[index][0][0], pred3[index][0][0], outputs[index][0][0], tag1 = 'Model 1', tag2 = 'Model 2', tag3 = 'Model 3', tag4 = 'Ground Truth')"
   ]
  },
  {
   "cell_type": "code",
   "execution_count": null,
   "metadata": {},
   "outputs": [],
   "source": [
    "index = 18\n",
    "display_4_slice(pred1[index][0][0], pred2[index][0][0], pred3[index][0][0], outputs[index][0][0], tag1 = 'Model 1', tag2 = 'Model 2', tag3 = 'Model 3', tag4 = 'Ground Truth')"
   ]
  },
  {
   "cell_type": "code",
   "execution_count": null,
   "metadata": {},
   "outputs": [],
   "source": [
    "model_multi_channel = UNet(in_channels=4).to(device)\n",
    "optim_multi_channel = torch.optim.Adam(model_multi_channel.parameters(), lr=0.001)\n",
    "feature_range = (0,4)\n"
   ]
  },
  {
   "cell_type": "markdown",
   "metadata": {},
   "source": [
    "```\n",
    "Model 4\n",
    "```\n"
   ]
  },
  {
   "cell_type": "code",
   "execution_count": null,
   "metadata": {},
   "outputs": [],
   "source": [
    "# train_loss_multi_combined_0001, val_loss_multi_combined_0001 = train_model(model_multi_channel, train_dataloader=training_dataloader, \n",
    "#                                                                            val_dataloader=validation_dataloader, optimizer=optim_multi_channel,\n",
    "#                                                                            feature_range=feature_range, device = device, loss_fn = loss3, \n",
    "#                                                                            display_batch_loss=True, save_folder=\"multi_channel_combined_lr0001\", \n",
    "#                                                                            epochs = epochs)"
   ]
  },
  {
   "cell_type": "code",
   "execution_count": null,
   "metadata": {},
   "outputs": [],
   "source": [
    "# plot_two_lines_same_x(train_loss_multi_combined_0001, val_loss_multi_combined_0001) "
   ]
  },
  {
   "cell_type": "markdown",
   "metadata": {},
   "source": [
    "```\n",
    "Model 5\n",
    "```"
   ]
  },
  {
   "cell_type": "code",
   "execution_count": null,
   "metadata": {},
   "outputs": [],
   "source": [
    "model_multi_channel = UNet(in_channels=4).to(device)\n",
    "optim_multi_channel = torch.optim.Adam(model_multi_channel.parameters(), lr=0.01)"
   ]
  },
  {
   "cell_type": "code",
   "execution_count": null,
   "metadata": {},
   "outputs": [],
   "source": [
    "# train_loss_multi_combined_001, val_loss_multi_combined_001 = train_model(model_multi_channel, train_dataloader=training_dataloader, \n",
    "#                                                                          val_dataloader=validation_dataloader, optimizer=optim_multi_channel,\n",
    "#                                                                          feature_range=feature_range, device = device, loss_fn = loss3, \n",
    "#                                                                          display_batch_loss=True, save_folder=\"multi_channel_combined_lr001\",\n",
    "#                                                                          epochs = epochs)"
   ]
  },
  {
   "cell_type": "code",
   "execution_count": null,
   "metadata": {},
   "outputs": [],
   "source": [
    "# plot_two_lines_same_x(train_loss_multi_combined_001, val_loss_multi_combined_001)"
   ]
  },
  {
   "cell_type": "markdown",
   "metadata": {},
   "source": [
    "```\n",
    "Model 6\n",
    "```"
   ]
  },
  {
   "cell_type": "code",
   "execution_count": null,
   "metadata": {},
   "outputs": [],
   "source": [
    "model_multi_channel_main = UNet(in_channels=4).to(device)\n",
    "optim_multi_channel_main = torch.optim.Adam(model_multi_channel_main.parameters(), lr=0.001)\n",
    "epochs = 5"
   ]
  },
  {
   "cell_type": "code",
   "execution_count": null,
   "metadata": {},
   "outputs": [],
   "source": [
    "# train_loss_multi_main, val_loss_multi_main = train_model(model_multi_channel_main, train_dataloader=training_dataloader, \n",
    "#                                                          val_dataloader=validation_dataloader, optimizer=optim_multi_channel_main,\n",
    "#                                                          feature_range=feature_range, device = device, loss_fn = loss3, display_batch_loss=True, \n",
    "#                                                          save_folder=\"multi_channel_main\", epochs=epochs)"
   ]
  },
  {
   "cell_type": "code",
   "execution_count": null,
   "metadata": {},
   "outputs": [],
   "source": [
    "# plot_two_lines_same_x(train_loss_multi_main, val_loss_multi_main)"
   ]
  },
  {
   "cell_type": "markdown",
   "metadata": {},
   "source": [
    "```\n",
    "Model 7\n",
    "```"
   ]
  },
  {
   "cell_type": "code",
   "execution_count": null,
   "metadata": {},
   "outputs": [],
   "source": [
    "model_multi_channel_further = torch.load(\"./saved_models/multi_channel_main/model_5.pth\").to(device)\n",
    "optim_multi_channel_further = torch.optim.Adam(model_multi_channel_main.parameters(), lr=0.001)\n",
    "epochs = 5"
   ]
  },
  {
   "cell_type": "code",
   "execution_count": null,
   "metadata": {},
   "outputs": [],
   "source": [
    "# train_loss_multi_further, val_loss_multi_further = train_model(model_multi_channel_further, train_dataloader=training_dataloader, \n",
    "#                                                          val_dataloader=validation_dataloader, optimizer=optim_multi_channel_further,\n",
    "#                                                          feature_range=feature_range, device = device, loss_fn = loss3, display_batch_loss=True, \n",
    "#                                                          save_folder=\"multi_channel_further\", epochs=epochs)"
   ]
  },
  {
   "cell_type": "code",
   "execution_count": null,
   "metadata": {},
   "outputs": [],
   "source": [
    "# plot_two_lines_same_x(train_loss_multi_further, val_loss_multi_further)"
   ]
  },
  {
   "cell_type": "code",
   "execution_count": null,
   "metadata": {},
   "outputs": [],
   "source": [
    "model = torch.load(\"./saved_models/multi_channel_further/model_5.pth\").to(device)\n",
    "avg_loss, preds, actuals = test_model(model, testing_dataloader, device, loss3)"
   ]
  },
  {
   "cell_type": "code",
   "execution_count": null,
   "metadata": {},
   "outputs": [],
   "source": [
    "print(avg_loss)"
   ]
  },
  {
   "cell_type": "code",
   "execution_count": null,
   "metadata": {},
   "outputs": [],
   "source": [
    "index = 12\n",
    "\n",
    "display_slice(preds[index][0], actuals[index][0], tag1 = 'Predicted', tag2 = 'Actual')"
   ]
  },
  {
   "cell_type": "code",
   "execution_count": null,
   "metadata": {},
   "outputs": [],
   "source": [
    "index = 15\n",
    "\n",
    "display_slice(preds[index][0], actuals[index][0], tag1 = 'Predicted', tag2 = 'Actual')"
   ]
  }
 ],
 "metadata": {
  "kernelspec": {
   "display_name": "venv",
   "language": "python",
   "name": "python3"
  },
  "language_info": {
   "codemirror_mode": {
    "name": "ipython",
    "version": 3
   },
   "file_extension": ".py",
   "mimetype": "text/x-python",
   "name": "python",
   "nbconvert_exporter": "python",
   "pygments_lexer": "ipython3",
   "version": "3.9.18"
  }
 },
 "nbformat": 4,
 "nbformat_minor": 2
}
